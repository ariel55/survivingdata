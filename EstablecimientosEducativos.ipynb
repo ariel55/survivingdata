{
 "cells": [
  {
   "cell_type": "code",
   "execution_count": 1,
   "metadata": {
    "collapsed": false
   },
   "outputs": [
    {
     "name": "stdout",
     "output_type": "stream",
     "text": [
      "<class 'pandas.core.frame.DataFrame'>\n",
      "Int64Index: 2857 entries, 0 to 2856\n",
      "Data columns (total 28 columns):\n",
      "LON           2857 non-null float64\n",
      "LAT           2857 non-null float64\n",
      "OBJECTID      2857 non-null int64\n",
      "CUI           2857 non-null int64\n",
      "CUEANEXO      2857 non-null int64\n",
      "CUE           2857 non-null int64\n",
      "ANEXO         2857 non-null float64\n",
      "SECTOR        2857 non-null int64\n",
      "DOM_EDIFIC    2857 non-null object\n",
      "DOM_ESTABL    2857 non-null object\n",
      "NOMB_EST      2857 non-null object\n",
      "NOMB_ABR      2857 non-null object\n",
      "TELEFONO      2854 non-null object\n",
      "EMAIL         2855 non-null object\n",
      "CODPOST       2857 non-null object\n",
      "PAGINAWEB     2857 non-null object\n",
      "NIVMOD        2857 non-null object\n",
      "NIVELMODAL    2857 non-null object\n",
      "DEPFUN        2822 non-null object\n",
      "DE            2857 non-null int64\n",
      "COMUNA        2857 non-null int64\n",
      "BARRIO        2857 non-null object\n",
      "AREAPROGRA    2857 non-null object\n",
      "ESTADO        2857 non-null int64\n",
      "POINT_X       2857 non-null object\n",
      "POINT_Y       2857 non-null object\n",
      "NIVEL         2857 non-null object\n",
      "TIPEST        2857 non-null object\n",
      "dtypes: float64(3), int64(8), object(17)"
     ]
    }
   ],
   "source": [
    "import pandas as pd\n",
    "import numpy as np\n",
    "import seaborn as sns\n",
    "\n",
    "import pyproj, sys\n",
    "from os import system\n",
    "from math import sin,cos,sqrt,asin,pi\n",
    "\n",
    "import matplotlib.pyplot as plt\n",
    "%matplotlib inline\n",
    "\n",
    "escuelas = pd.read_csv('data/establecimientos-educativos.csv',sep=';', error_bad_lines=False,low_memory=False)\n",
    "escuelas.info()"
   ]
  },
  {
   "cell_type": "code",
   "execution_count": 4,
   "metadata": {
    "collapsed": false
   },
   "outputs": [
    {
     "data": {
      "text/html": [
       "<div style=\"max-height:1000px;max-width:1500px;overflow:auto;\">\n",
       "<table border=\"1\" class=\"dataframe\">\n",
       "  <thead>\n",
       "    <tr style=\"text-align: right;\">\n",
       "      <th></th>\n",
       "      <th>lat</th>\n",
       "      <th>lon</th>\n",
       "      <th>price</th>\n",
       "    </tr>\n",
       "  </thead>\n",
       "  <tbody>\n",
       "    <tr>\n",
       "      <th>4 </th>\n",
       "      <td>-34.558247</td>\n",
       "      <td>-58.564806</td>\n",
       "      <td> 110000</td>\n",
       "    </tr>\n",
       "    <tr>\n",
       "      <th>7 </th>\n",
       "      <td>-34.561351</td>\n",
       "      <td>-58.516614</td>\n",
       "      <td>  99000</td>\n",
       "    </tr>\n",
       "    <tr>\n",
       "      <th>11</th>\n",
       "      <td>-34.597915</td>\n",
       "      <td>-58.417149</td>\n",
       "      <td>  86925</td>\n",
       "    </tr>\n",
       "  </tbody>\n",
       "</table>\n",
       "<p>3 rows × 3 columns</p>\n",
       "</div>"
      ],
      "text/plain": [
       "          lat        lon   price\n",
       "4  -34.558247 -58.564806  110000\n",
       "7  -34.561351 -58.516614   99000\n",
       "11 -34.597915 -58.417149   86925\n",
       "\n",
       "[3 rows x 3 columns]"
      ]
     },
     "execution_count": 4,
     "metadata": {},
     "output_type": "execute_result"
    }
   ],
   "source": [
    "viviendas = pd.read_csv('../archivoCSV-Properati/properati-AR-2013-08-01-properties-sell.csv',low_memory=False)\n",
    "#viviendas.info()\n",
    "viviendas.dropna(subset=[['lat','lon','price']],inplace=True)\n",
    "\n",
    "viviendas_en_mapa = viviendas[['lat','lon','price']]\n",
    "\n",
    "viviendas_en_mapa[:3]"
   ]
  },
  {
   "cell_type": "code",
   "execution_count": 6,
   "metadata": {
    "collapsed": false
   },
   "outputs": [],
   "source": [
    "#type (escuelas['NIVELMODAL'].str.contains(\"INICIAL\"))\n",
    "\n",
    "escuelas['NIVEL_INICIAL'] = escuelas[escuelas['NIVELMODAL'].str.contains(\"INICIAL\")]['NIVELMODAL']\n",
    "escuelas['NIVEL_PRIMARIO'] = escuelas[escuelas['NIVELMODAL'].str.contains(\"PRIMARIO\")]['NIVELMODAL']\n",
    "escuelas['NIVEL_SECUNDARIO'] = escuelas[escuelas['NIVELMODAL'].str.contains(\"SECUNDARIO\")]['NIVELMODAL']\n",
    "\n",
    "#escuela.dropna(subset=['rooms'],inplace=False)\n",
    "\n",
    "escuelas_por_nivel = escuelas[['LAT','LON','NIVEL_INICIAL', 'NIVEL_PRIMARIO', 'NIVEL_SECUNDARIO']]\n",
    "escuelas_por_nivel.head(4)\n",
    "\n",
    "long1 = -67.9766140755\n",
    "lat1 = 9.36642904389\n",
    "long2 = -67.9767140755\n",
    "lat2 = 9.36642904389\n",
    " \n",
    "# Inicio de funcion de distancia\n",
    "def distanciaEnMetros(lat1, long1, lat2, long2):\n",
    "    long1,lat1 = (long1,lat1)\n",
    "    long2,lat2 = (long2,lat2)\n",
    "    \n",
    "    r = 6371000 #radio terrestre medio, en metros\n",
    "    c = pi/180 #constante para transformar grados en radianes\n",
    "\n",
    "    #Fórmula de haversine\n",
    "    d = 2*r*asin(sqrt(sin(c*(lat2-lat1)/2)**2 + cos(c*lat1)*cos(c*lat2)*sin(c*(long2-long1)/2)**2))\n",
    "\n",
    "    return d    \n",
    "# Fin de funcion de distancia\n",
    "\n",
    "\n"
   ]
  },
  {
   "cell_type": "code",
   "execution_count": null,
   "metadata": {
    "collapsed": true
   },
   "outputs": [],
   "source": []
  }
 ],
 "metadata": {
  "kernelspec": {
   "display_name": "Python 2",
   "language": "python",
   "name": "python2"
  },
  "language_info": {
   "codemirror_mode": {
    "name": "ipython",
    "version": 2
   },
   "file_extension": ".py",
   "mimetype": "text/x-python",
   "name": "python",
   "nbconvert_exporter": "python",
   "pygments_lexer": "ipython2",
   "version": "2.7.6"
  }
 },
 "nbformat": 4,
 "nbformat_minor": 1
}
