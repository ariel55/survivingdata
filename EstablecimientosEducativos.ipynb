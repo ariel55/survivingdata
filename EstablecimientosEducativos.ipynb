{
 "cells": [
  {
   "cell_type": "code",
   "execution_count": 13,
   "metadata": {
    "collapsed": false
   },
   "outputs": [],
   "source": [
    "import pandas as pd\n",
    "import numpy as np\n",
    "import seaborn as sns\n",
    "\n",
    "import pyproj, sys\n",
    "from os import system\n",
    "from math import sin,cos,sqrt,asin,pi\n",
    "\n",
    "import matplotlib.pyplot as plt\n",
    "%matplotlib inline\n",
    "\n",
    "escuelas = pd.read_csv('data/establecimientos-educativos.csv',sep=';', error_bad_lines=False,low_memory=False)\n",
    "\n",
    "# Inicio de funcion de distancia\n",
    "def distanciaEnMetros ( lat1, long1, lat2, long2 ):\n",
    "    long1,lat1 = (long1,lat1)\n",
    "    long2,lat2 = (long2,lat2)\n",
    "    \n",
    "    r = 6371000 #radio terrestre medio, en metros\n",
    "    c = pi/180 #constante para transformar grados en radianes\n",
    "\n",
    "    #Fórmula de haversine\n",
    "    d = 2*r*asin(sqrt(sin(c*(lat2-lat1)/2)**2 + cos(c*lat1)*cos(c*lat2)*sin(c*(long2-long1)/2)**2))\n",
    "\n",
    "    return d    \n",
    "# Fin de funcion de distancia\n"
   ]
  },
  {
   "cell_type": "code",
   "execution_count": 14,
   "metadata": {
    "collapsed": false
   },
   "outputs": [
    {
     "data": {
      "text/html": [
       "<div style=\"max-height:1000px;max-width:1500px;overflow:auto;\">\n",
       "<table border=\"1\" class=\"dataframe\">\n",
       "  <thead>\n",
       "    <tr style=\"text-align: right;\">\n",
       "      <th></th>\n",
       "      <th>lat</th>\n",
       "      <th>lon</th>\n",
       "      <th>price</th>\n",
       "    </tr>\n",
       "  </thead>\n",
       "  <tbody>\n",
       "    <tr>\n",
       "      <th>4 </th>\n",
       "      <td>-34.558247</td>\n",
       "      <td>-58.564806</td>\n",
       "      <td> 110000</td>\n",
       "    </tr>\n",
       "    <tr>\n",
       "      <th>7 </th>\n",
       "      <td>-34.561351</td>\n",
       "      <td>-58.516614</td>\n",
       "      <td>  99000</td>\n",
       "    </tr>\n",
       "    <tr>\n",
       "      <th>11</th>\n",
       "      <td>-34.597915</td>\n",
       "      <td>-58.417149</td>\n",
       "      <td>  86925</td>\n",
       "    </tr>\n",
       "  </tbody>\n",
       "</table>\n",
       "<p>3 rows × 3 columns</p>\n",
       "</div>"
      ],
      "text/plain": [
       "          lat        lon   price\n",
       "4  -34.558247 -58.564806  110000\n",
       "7  -34.561351 -58.516614   99000\n",
       "11 -34.597915 -58.417149   86925\n",
       "\n",
       "[3 rows x 3 columns]"
      ]
     },
     "execution_count": 14,
     "metadata": {},
     "output_type": "execute_result"
    }
   ],
   "source": [
    "viviendas = pd.read_csv('../archivoCSV-Properati/properati-AR-2013-08-01-properties-sell.csv',low_memory=False)\n",
    "#viviendas.info()\n",
    "viviendas.dropna(subset=[['lat','lon','price']],inplace=True)\n",
    "\n",
    "viviendas_en_map = viviendas[['lat','lon','price']]\n",
    "\n",
    "viviendas_en_mapa[:3]"
   ]
  },
  {
   "cell_type": "code",
   "execution_count": 12,
   "metadata": {
    "collapsed": false
   },
   "outputs": [
    {
     "name": "stdout",
     "output_type": "stream",
     "text": [
      "10.9712441283\n"
     ]
    }
   ],
   "source": [
    "#type (escuelas['NIVELMODAL'].str.contains(\"INICIAL\"))\n",
    "\n",
    "escuelas['NIVEL_INICIAL'] = escuelas[escuelas['NIVELMODAL'].str.contains(\"INICIAL\")]['NIVELMODAL']\n",
    "escuelas['NIVEL_PRIMARIO'] = escuelas[escuelas['NIVELMODAL'].str.contains(\"PRIMARIO\")]['NIVELMODAL']\n",
    "escuelas['NIVEL_SECUNDARIO'] = escuelas[escuelas['NIVELMODAL'].str.contains(\"SECUNDARIO\")]['NIVELMODAL']\n",
    "\n",
    "#escuela.dropna(subset=['rooms'],inplace=False)\n",
    "\n",
    "escuelas_por_nivel = escuelas[['LAT','LON','NIVEL_INICIAL', 'NIVEL_PRIMARIO', 'NIVEL_SECUNDARIO']]\n",
    "escuelas_por_nivel.head(4)\n",
    "\n",
    "long1 = -67.9766140755\n",
    "lat1 = 9.36642904389\n",
    "long2 = -67.9767140755\n",
    "lat2 = 9.36642904389\n",
    " \n",
    "print distanciaEnMetros(lat1, long1, lat2, long2)\n"
   ]
  },
  {
   "cell_type": "code",
   "execution_count": null,
   "metadata": {
    "collapsed": true
   },
   "outputs": [],
   "source": []
  }
 ],
 "metadata": {
  "kernelspec": {
   "display_name": "Python 2",
   "language": "python",
   "name": "python2"
  },
  "language_info": {
   "codemirror_mode": {
    "name": "ipython",
    "version": 2
   },
   "file_extension": ".py",
   "mimetype": "text/x-python",
   "name": "python",
   "nbconvert_exporter": "python",
   "pygments_lexer": "ipython2",
   "version": "2.7.6"
  }
 },
 "nbformat": 4,
 "nbformat_minor": 1
}
