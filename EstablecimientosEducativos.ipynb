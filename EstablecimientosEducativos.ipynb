{
 "cells": [
  {
   "cell_type": "code",
   "execution_count": 40,
   "metadata": {
    "collapsed": true
   },
   "outputs": [],
   "source": [
    "import pandas as pd\n",
    "import numpy as np\n",
    "import seaborn as sns\n",
    "\n",
    "import matplotlib.pyplot as plt\n",
    "%matplotlib inline"
   ]
  },
  {
   "cell_type": "code",
   "execution_count": 41,
   "metadata": {
    "collapsed": false
   },
   "outputs": [],
   "source": [
    "viviendas = pd.read_csv('../archivoCSV-Properati/properati-AR-2017-08-01-properties-sell.csv',low_memory=False)"
   ]
  },
  {
   "cell_type": "code",
   "execution_count": 68,
   "metadata": {
    "collapsed": false
   },
   "outputs": [],
   "source": [
    "escuelas = pd.read_csv('data/establecimientos-educativos.csv',sep=';', error_bad_lines=False,low_memory=False)\n",
    "#escuelas.info()"
   ]
  },
  {
   "cell_type": "code",
   "execution_count": 39,
   "metadata": {
    "collapsed": false
   },
   "outputs": [],
   "source": [
    "#escuelas_por_barrios = escuelas['BARRIO'].value_counts()\n",
    "#escuelas_por_barrios.plot(kind='bar')"
   ]
  },
  {
   "cell_type": "code",
   "execution_count": 81,
   "metadata": {
    "collapsed": false
   },
   "outputs": [
    {
     "data": {
      "text/plain": [
       "665"
      ]
     },
     "execution_count": 81,
     "metadata": {},
     "output_type": "execute_result"
    }
   ],
   "source": [
    "#escuelas['NIVELMODAL'].value_counts()\n",
    "\n",
    "#tipos_escuelas = escuelas.loc[ ((escuelas.NIVELMODAL.str.contains('INICIAL')) | \\\n",
    "#                               (escuelas.NIVELMODAL.str.contains('PRIMARIO')) | \\\n",
    "#                               (escuelas.NIVELMODAL.str.contains('SECUNDARIO')))]\\\n",
    "#                                   .groupby('NIVELMODAL')\n",
    "\n",
    "esInicial     = escuelas['NIVELMODAL'].str.contains('INICIAL')\n",
    "esPrimario   = escuelas['NIVELMODAL'].str.contains('PRIMARIO')\n",
    "esSecundario = escuelas['NIVELMODAL'].str.contains('SECUNDARIO')\n",
    "\n",
    "escuelas_nivel_inicial    = escuelas[esInicial]\n",
    "escuelas_nivel_primario   = escuelas[esPrimario]\n",
    "escuelas_nivel_secundario = escuelas[esSecundario]\n",
    "\n",
    "#escuelas[esInicial]['NIVELMODAL'].count()   #1209\n",
    "#escuelas[esPrimario]['NIVELMODAL'].count()  #1175\n",
    "escuelas[esSecundario]['NIVELMODAL'].count() #665\n",
    "\n"
   ]
  },
  {
   "cell_type": "code",
   "execution_count": null,
   "metadata": {
    "collapsed": true
   },
   "outputs": [],
   "source": []
  }
 ],
 "metadata": {
  "kernelspec": {
   "display_name": "Python 2",
   "language": "python",
   "name": "python2"
  },
  "language_info": {
   "codemirror_mode": {
    "name": "ipython",
    "version": 2
   },
   "file_extension": ".py",
   "mimetype": "text/x-python",
   "name": "python",
   "nbconvert_exporter": "python",
   "pygments_lexer": "ipython2",
   "version": "2.7.6"
  }
 },
 "nbformat": 4,
 "nbformat_minor": 1
}
